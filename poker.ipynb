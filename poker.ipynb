{
 "cells": [
  {
   "cell_type": "code",
   "execution_count": 36,
   "id": "f2d23323-734a-4e60-b1d5-e173448d4b0d",
   "metadata": {},
   "outputs": [],
   "source": [
    "import random\n",
    "from collections import Counter\n",
    "from itertools import combinations\n",
    "from IPython.display import display\n",
    "import ipywidgets as widgets"
   ]
  },
  {
   "cell_type": "code",
   "execution_count": 37,
   "id": "398020ad-6a04-4d0c-b5be-189d4b11ea7a",
   "metadata": {},
   "outputs": [],
   "source": [
    "RANKS = '2 3 4 5 6 7 8 9 10 J Q K A'.split()\n",
    "SUITS = 'h d c s'.split()\n",
    "\n",
    "def create_deck():\n",
    "    return [rank + suit for rank in RANKS for suit in SUITS]\n",
    "\n",
    "def card_prettify(card):\n",
    "    rank = card[:-1]\n",
    "    suit = card[-1]\n",
    "    suit_symbols = {\n",
    "        'h': '♥',\n",
    "        'd': '♦',\n",
    "        'c': '♣',\n",
    "        's': '♠'\n",
    "    }\n",
    "    return f\"{rank.upper()}{suit_symbols[suit]}\""
   ]
  },
  {
   "cell_type": "code",
   "execution_count": 38,
   "id": "1ae78936-d07b-430d-91f4-df703cf379e3",
   "metadata": {},
   "outputs": [],
   "source": [
    "def evaluate_hand(cards):\n",
    "    ranks = [card[:-1] for card in cards]\n",
    "    suits = [card[-1] for card in cards]\n",
    "    rank_counts = Counter(ranks)\n",
    "    suit_counts = Counter(suits)\n",
    "    \n",
    "    flush = any(count >= 5 for count in suit_counts.values())\n",
    "    \n",
    "    rank_values = [RANKS.index(r) for r in ranks]\n",
    "    rank_values = list(set(rank_values))\n",
    "    rank_values.sort()\n",
    "\n",
    "    straight = False\n",
    "    for i in range(len(rank_values) - 4):\n",
    "        if rank_values[i+4] - rank_values[i] == 4:\n",
    "            straight = True\n",
    "            break\n",
    "    if set([12, 0, 1, 2, 3]).issubset(rank_values):\n",
    "        straight = True\n",
    "    \n",
    "    if straight and flush:\n",
    "        return 8  \n",
    "    elif 4 in rank_counts.values():\n",
    "        return 7  \n",
    "    elif sorted(rank_counts.values()) == [2,3]:\n",
    "        return 6  \n",
    "    elif flush:\n",
    "        return 5  \n",
    "    elif straight:\n",
    "        return 4  \n",
    "    elif 3 in rank_counts.values():\n",
    "        return 3  \n",
    "    elif list(rank_counts.values()).count(2) == 2:\n",
    "        return 2  \n",
    "    elif 2 in rank_counts.values():\n",
    "        return 1  \n",
    "    else:\n",
    "        return 00"
   ]
  },
  {
   "cell_type": "code",
   "execution_count": 39,
   "id": "9f35d498-a9b4-4435-b3d7-730688dc25b0",
   "metadata": {},
   "outputs": [],
   "source": [
    "HAND_STRENGTHS = [\n",
    "    \"High Card\", \"One Pair\", \"Two Pair\", \"Three of a Kind\",\n",
    "    \"Straight\", \"Flush\", \"Full House\", \"Four of a Kind\", \"Straight Flush\"\n",
    "]"
   ]
  },
  {
   "cell_type": "code",
   "execution_count": 40,
   "id": "569acd85-adc1-46d9-a29e-8d045ce8a1ce",
   "metadata": {},
   "outputs": [],
   "source": [
    "def simulate(hole_cards, community_cards, num_opponents=1, simulations=1000):\n",
    "    wins = 0\n",
    "    ties = 0\n",
    "    hand_distribution = [0] * 9  \n",
    "    \n",
    "    deck = create_deck()\n",
    "    used_cards = hole_cards + community_cards\n",
    "    for card in used_cards:\n",
    "        deck.remove(card)\n",
    "    \n",
    "    for _ in range(simulations):\n",
    "        random.shuffle(deck)\n",
    "        opp_hands = []\n",
    "        index = 0\n",
    "        for _ in range(num_opponents):\n",
    "            opp_hands.append([deck[index], deck[index+1]])\n",
    "            index += 2\n",
    "        remaining_community = 5 - len(community_cards)\n",
    "        community = community_cards + deck[index:index+remaining_community]\n",
    "        index += remaining_community\n",
    "        \n",
    "        player_best = evaluate_hand(hole_cards + community)\n",
    "        opp_bests = []\n",
    "        for hand in opp_hands:\n",
    "            opp_best_hand = evaluate_hand(hand + community)\n",
    "            opp_bests.append(opp_best_hand)\n",
    "            hand_distribution[opp_best_hand] += 1\n",
    "        \n",
    "        max_opp = max(opp_bests)\n",
    "        if player_best > max_opp:\n",
    "            wins += 1\n",
    "        elif player_best == max_opp:\n",
    "            ties += 1\n",
    "    \n",
    "    win_prob = wins / simulations\n",
    "    tie_prob = ties / simulations\n",
    "    lose_prob = 1 - win_prob - tie_prob\n",
    "    \n",
    "    hand_distribution = [x / (simulations * num_opponents) for x in hand_distribution]\n",
    "    \n",
    "    return win_prob, tie_prob, lose_prob, hand_distribution\n",
    "\n",
    "def simulate_potential_hands(hole_cards, community_cards, num_opponents=1, simulations=1000):\n",
    "    potential_distribution = [0] * 9  \n",
    "    \n",
    "    deck = create_deck()\n",
    "    used_cards = hole_cards + community_cards\n",
    "    for card in used_cards:\n",
    "        deck.remove(card)\n",
    "    \n",
    "    for _ in range(simulations):\n",
    "        random.shuffle(deck)\n",
    "        opp_hands = []\n",
    "        index = 0\n",
    "        for _ in range(num_opponents):\n",
    "            opp_hands.append([deck[index], deck[index+1]])\n",
    "            index += 2\n",
    "        remaining_community = 5 - len(community_cards)\n",
    "        potential_community = deck[index:index+remaining_community]\n",
    "        \n",
    "        opp_bests = []\n",
    "        for hand in opp_hands:\n",
    "            opp_best_hand = evaluate_hand(hand + community_cards + potential_community)\n",
    "            opp_bests.append(opp_best_hand)\n",
    "            potential_distribution[opp_best_hand] += 1\n",
    "    \n",
    "    potential_distribution = [x / (simulations * num_opponents) for x in potential_distribution]\n",
    "    \n",
    "    return potential_distribution\n",
    "\n",
    "def poker_calculator():\n",
    "    print(\"### Poker Probability Calculator - Texas Hold'em ###\\n\")\n",
    "    \n",
    "    hole_input = widgets.Text(\n",
    "        description=\"Hole Cards:\",\n",
    "        placeholder=\"E.g., Ah Kd\"\n",
    "    )\n",
    "    flop_input = widgets.Text(\n",
    "        description=\"Flop:\",\n",
    "        placeholder=\"E.g., 7c 8s 9h\"\n",
    "    )\n",
    "    turn_input = widgets.Text(\n",
    "        description=\"Turn:\",\n",
    "        placeholder=\"E.g., Qd\"\n",
    "    )\n",
    "    river_input = widgets.Text(\n",
    "        description=\"River:\",\n",
    "        placeholder=\"E.g., Js\"\n",
    "    )\n",
    "    \n",
    "    num_opponents = widgets.IntSlider(value=1, min=1, max=9, step=1, description='Number of Opponents:')\n",
    "    simulations = widgets.IntText(value=1000, description='Simulations:')\n",
    "    \n",
    "    calculate_button = widgets.Button(description=\"Calculate Odds\")\n",
    "    output = widgets.Output()\n",
    "    \n",
    "    def parse_cards(input_str):\n",
    "        \"\"\"Parse the input string to extract cards.\"\"\"\n",
    "        return input_str.strip().split() if input_str else []\n",
    "    \n",
    "    def on_calculate_clicked(b):\n",
    "        with output:\n",
    "            output.clear_output()\n",
    "            hole_cards = parse_cards(hole_input.value)\n",
    "            community_cards = parse_cards(flop_input.value) + parse_cards(turn_input.value) + parse_cards(river_input.value)\n",
    "            if not hole_cards or len(hole_cards) != 2:\n",
    "                print(\"Error: Please enter exactly two hole cards.\")\n",
    "                return\n",
    "            \n",
    "            win_prob, tie_prob, lose_prob, hand_distribution = simulate(hole_cards, community_cards, num_opponents.value, simulations.value)\n",
    "            potential_distribution = simulate_potential_hands(hole_cards, community_cards, num_opponents.value, simulations.value)\n",
    "            \n",
    "            print(f\"Hole Cards: {card_prettify(hole_cards[0])} {card_prettify(hole_cards[1])}\")\n",
    "            if community_cards:\n",
    "                community_pretty = ' '.join([card_prettify(card) for card in community_cards])\n",
    "                print(f\"Community Cards: {community_pretty}\")\n",
    "            else:\n",
    "                print(\"Community Cards: None\")\n",
    "            print(f\"Number of Opponents: {num_opponents.value}\")\n",
    "            print(f\"Simulations Run: {simulations.value}\")\n",
    "            print(f\"\\nEstimated Probabilities:\")\n",
    "            print(f\"Win: {win_prob*100:.2f}%\")\n",
    "            print(f\"Tie: {tie_prob*100:.2f}%\")\n",
    "            print(f\"Lose: {lose_prob*100:.2f}%\")\n",
    "            if win_prob > 0.5:\n",
    "                print(\"\\nSuggested Action: Raise/Bet\")\n",
    "            elif win_prob > 0.2:\n",
    "                print(\"\\nSuggested Action: Call/Check\")\n",
    "            else:\n",
    "                print(\"\\nSuggested Action: Fold\")\n",
    "            \n",
    "            print(\"\\nOpponent Hand Distribution (Current):\")\n",
    "            for i, prob in enumerate(hand_distribution):\n",
    "                print(f\"{HAND_STRENGTHS[i]}: {prob*100:.2f}%\")\n",
    "            \n",
    "            if len(community_cards) < 5:\n",
    "                print(\"\\nOpponent Potential Hand Distribution (Before River):\")\n",
    "                for i, prob in enumerate(potential_distribution):\n",
    "                    print(f\"{HAND_STRENGTHS[i]}: {prob*100:.2f}%\")\n",
    "    \n",
    "    calculate_button.on_click(on_calculate_clicked)\n",
    "    \n",
    "    display(hole_input, flop_input, turn_input, river_input, num_opponents, simulations, calculate_button, output)"
   ]
  },
  {
   "cell_type": "code",
   "execution_count": 42,
   "id": "8c6c0b65-fb0f-4dc6-b162-4e0569c7cfdc",
   "metadata": {},
   "outputs": [
    {
     "name": "stdout",
     "output_type": "stream",
     "text": [
      "### Poker Probability Calculator - Texas Hold'em ###\n",
      "\n"
     ]
    },
    {
     "data": {
      "application/vnd.jupyter.widget-view+json": {
       "model_id": "7c022b34141141d1b6a8500ccaf00f3e",
       "version_major": 2,
       "version_minor": 0
      },
      "text/plain": [
       "Text(value='', description='Hole Cards:', placeholder='E.g., Ah Kd')"
      ]
     },
     "metadata": {},
     "output_type": "display_data"
    },
    {
     "data": {
      "application/vnd.jupyter.widget-view+json": {
       "model_id": "5df19dd1b6974bfcb7b87ea252541ca7",
       "version_major": 2,
       "version_minor": 0
      },
      "text/plain": [
       "Text(value='', description='Flop:', placeholder='E.g., 7c 8s 9h')"
      ]
     },
     "metadata": {},
     "output_type": "display_data"
    },
    {
     "data": {
      "application/vnd.jupyter.widget-view+json": {
       "model_id": "d9fefeb06b014eb5869c045c9df7a8e2",
       "version_major": 2,
       "version_minor": 0
      },
      "text/plain": [
       "Text(value='', description='Turn:', placeholder='E.g., Qd')"
      ]
     },
     "metadata": {},
     "output_type": "display_data"
    },
    {
     "data": {
      "application/vnd.jupyter.widget-view+json": {
       "model_id": "21cab2084c9240c3941b14ad01668beb",
       "version_major": 2,
       "version_minor": 0
      },
      "text/plain": [
       "Text(value='', description='River:', placeholder='E.g., Js')"
      ]
     },
     "metadata": {},
     "output_type": "display_data"
    },
    {
     "data": {
      "application/vnd.jupyter.widget-view+json": {
       "model_id": "e940796408d04532a50b88e5bc4a9924",
       "version_major": 2,
       "version_minor": 0
      },
      "text/plain": [
       "IntSlider(value=1, description='Number of Opponents:', max=9, min=1)"
      ]
     },
     "metadata": {},
     "output_type": "display_data"
    },
    {
     "data": {
      "application/vnd.jupyter.widget-view+json": {
       "model_id": "86cf13af026048cda9069a6f0b5b0f7c",
       "version_major": 2,
       "version_minor": 0
      },
      "text/plain": [
       "IntText(value=1000, description='Simulations:')"
      ]
     },
     "metadata": {},
     "output_type": "display_data"
    },
    {
     "data": {
      "application/vnd.jupyter.widget-view+json": {
       "model_id": "e246d7235c2a4f6fbb38177dbbe76e16",
       "version_major": 2,
       "version_minor": 0
      },
      "text/plain": [
       "Button(description='Calculate Odds', style=ButtonStyle())"
      ]
     },
     "metadata": {},
     "output_type": "display_data"
    },
    {
     "data": {
      "application/vnd.jupyter.widget-view+json": {
       "model_id": "032e4100adfa446095c5b210d1d1b944",
       "version_major": 2,
       "version_minor": 0
      },
      "text/plain": [
       "Output()"
      ]
     },
     "metadata": {},
     "output_type": "display_data"
    }
   ],
   "source": [
    "poker_calculator()"
   ]
  },
  {
   "cell_type": "code",
   "execution_count": null,
   "id": "489f7efb-12d9-4fb7-bc4a-7c80a631c85b",
   "metadata": {},
   "outputs": [],
   "source": []
  }
 ],
 "metadata": {
  "kernelspec": {
   "display_name": "Python 3 (ipykernel)",
   "language": "python",
   "name": "python3"
  },
  "language_info": {
   "codemirror_mode": {
    "name": "ipython",
    "version": 3
   },
   "file_extension": ".py",
   "mimetype": "text/x-python",
   "name": "python",
   "nbconvert_exporter": "python",
   "pygments_lexer": "ipython3",
   "version": "3.11.4"
  }
 },
 "nbformat": 4,
 "nbformat_minor": 5
}
